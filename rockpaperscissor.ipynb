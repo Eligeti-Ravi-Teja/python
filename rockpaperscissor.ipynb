{
  "cells": [
    {
      "cell_type": "markdown",
      "metadata": {
        "id": "view-in-github",
        "colab_type": "text"
      },
      "source": [
        "<a href=\"https://colab.research.google.com/github/Eligeti-Ravi-Teja/python/blob/main/rockpaperscissor.ipynb\" target=\"_parent\"><img src=\"https://colab.research.google.com/assets/colab-badge.svg\" alt=\"Open In Colab\"/></a>"
      ]
    },
    {
      "cell_type": "code",
      "execution_count": null,
      "metadata": {
        "colab": {
          "background_save": true,
          "base_uri": "https://localhost:8080/"
        },
        "id": "kK0FQEKRBV1A",
        "outputId": "fe0f91a5-48c5-42c7-e20c-481af781e37e"
      },
      "outputs": [
        {
          "name": "stdout",
          "output_type": "stream",
          "text": [
            "First 5 point's will win\n",
            "press below numbers for each options:\n",
            "'1'-for rock\n",
            "'2'- for paper\n",
            "'3'-for scissor\n",
            "number should be in 1,2 and 3 only\n",
            "->SAME BY BOTH\n",
            "System option is:  paper\n",
            "->YOU WON THIS TIME\n",
            "System option is:  paper\n",
            "Your score:  1\n"
          ]
        }
      ],
      "source": [
        "\n",
        "import random\n",
        "def game():\n",
        " tools=[\"rock\",\"paper\",\"scissor\"]\n",
        " person_score=0\n",
        " computer_score=0\n",
        " print(\"First 5 point's will win\")\n",
        " print(\"press below numbers for each options:\")\n",
        " print(\"'1'-for rock\")\n",
        " print(\"'2'- for paper\")\n",
        " print(\"'3'-for scissor\")\n",
        " while True:\n",
        "   \n",
        "    computer=random.choice(tools)\n",
        "    person1=input(\"Enter choices (1,2,3):\")\n",
        "    try:\n",
        "      person1=int(person1)\n",
        "      person=int(person1)\n",
        "    except:\n",
        "      print(\"enter only interger\")  \n",
        "    if(person<=3):\n",
        "     if person==1 and computer==\"scissor\":\n",
        "        print(\"->YOU WON THIS TIME\")\n",
        "        print(\"System option is: \",computer)\n",
        "        person_score=person_score+1\n",
        "        print(\"Your score: \",person_score)\n",
        "     elif person==3 and computer==\"paper\":\n",
        "       print(\"->YOU WON THIS TIME\")\n",
        "       print(\"System option is: \",computer)\n",
        "       person_score=person_score+1\n",
        "       print(\"Your score: \",person_score)\n",
        "     elif person==2 and computer==\"rock\":\n",
        "       print(\"->YOU WON THIS TIME\")\n",
        "       print(\"System option is: \",computer)\n",
        "       person_score=person_score+1\n",
        "       print(\"Your score: \",person_score)\n",
        "     elif person==3 and computer==\"rock\":\n",
        "       print(\"->YOU LOST THIS TIME\")\n",
        "       print(\"System option is: \",computer)\n",
        "       computer_score=computer_score+1\n",
        "       print(\"System score: \",computer_score)\n",
        "     elif person==2 and computer==\"scissor\":\n",
        "       print(\"->YOU LOST THIS TIME\")\n",
        "       print(\"System option is: \",computer)\n",
        "       computer_score=computer_score+1\n",
        "       print(\"System score: \",computer_score)\n",
        "     elif person==1 and computer==\"paper\":\n",
        "       print(\"->YOU LOST THIS THIME\")\n",
        "       print(\"System option is: \",computer)\n",
        "       computer_score=computer_score+1\n",
        "       print(\"System score: \",computer_score)\n",
        "     else:\n",
        "       print(\"->SAME BY BOTH\")\n",
        "       print(\"System option is: \",computer)\n",
        " \n",
        "   #print(person_score)\n",
        "     if person_score==5 or computer_score==5:\n",
        "       break\n",
        "    else:\n",
        "     print(\"number should be in 1,2 and 3 only\")   \n",
        "\n",
        " print(\"----YOUR SCORE:\",person_score)\n",
        " print(\"----SYSTEM SCORE:\",computer_score)\n",
        " if(person_score>computer_score):\n",
        "   print(\"!!!!!!!YOU WON!!!!!!!!!!\")\n",
        " else:\n",
        "   print(\"####YOU LOOSE####\")\n",
        "game()   "
      ]
    }
  ],
  "metadata": {
    "colab": {
      "collapsed_sections": [],
      "name": "rockpaperscissor.ipynb",
      "provenance": [],
      "authorship_tag": "ABX9TyNRAJXBbqUBjTfSYvvwf6KB",
      "include_colab_link": true
    },
    "kernelspec": {
      "display_name": "Python 3",
      "name": "python3"
    },
    "language_info": {
      "name": "python"
    }
  },
  "nbformat": 4,
  "nbformat_minor": 0
}