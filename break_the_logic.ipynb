{
  "nbformat": 4,
  "nbformat_minor": 0,
  "metadata": {
    "colab": {
      "name": "break the logic.ipynb",
      "provenance": [],
      "collapsed_sections": [],
      "authorship_tag": "ABX9TyOWFykAUGovwAxr7SgWsQgM",
      "include_colab_link": true
    },
    "kernelspec": {
      "name": "python3",
      "display_name": "Python 3"
    },
    "language_info": {
      "name": "python"
    }
  },
  "cells": [
    {
      "cell_type": "markdown",
      "metadata": {
        "id": "view-in-github",
        "colab_type": "text"
      },
      "source": [
        "<a href=\"https://colab.research.google.com/github/Eligeti-Ravi-Teja/python/blob/main/break_the_logic.ipynb\" target=\"_parent\"><img src=\"https://colab.research.google.com/assets/colab-badge.svg\" alt=\"Open In Colab\"/></a>"
      ]
    },
    {
      "cell_type": "code",
      "metadata": {
        "id": "6htTvNiV96Az"
      },
      "source": [
        "\n",
        "import random\n",
        "name=input(\"Enter your name:\")\n",
        "print(\"-----------All The Best \",name)\n",
        "print(\"*Guess the number between 50-60 (60 is not included).\\n *Only one chance.\\n *Use the clues to guess the number\") \n",
        "i=0\n",
        "while i<3:\n",
        " a=random.randint(50,60)\n",
        " if(a==50):\n",
        "  print(\"-->It contains the multiple of remainder of \\\"35%6.\\\"\\n -->It's an even\")\n",
        " elif(a==51):\n",
        "  print(\"-->It's an odd.\\n -->It is an number which is divisible by 3.\\n -->Substraction of two numbers is 4(don't consider the signs)\")\n",
        " elif(a==52):\n",
        "  print(\"-->It's an even.\\n -->When you divide the ten's place with one's place the remainder will be 1.\\n -->It is the multiple of 4\")\n",
        " elif(a==53):\n",
        "  print(\"-->It's an odd.\\n -->It is a prime.\\n -->Whose sum is the multiple of remainder and quotient of \\\"50%12\\\"\")\n",
        " elif(a==54):\n",
        "  print(\"-->It's an even.\\n -->multiple of ten's and one's place is the multiple of 2,4,5,10\")\n",
        " elif(a==55):\n",
        "  print(\"-->It's an odd.\\n -->Sum of two digits is the multiple of 2,5,10\")\n",
        " elif(a==56):\n",
        "  print(\"-->It's an even.\\n -->divide by ten's digit with  one's digit it is less than one.\\n -->Sum of digits is 11.\")\n",
        " elif(a==57):\n",
        "  print(\"-->Multiple of three.\\n -->Substraction of two numbers is 2(sign is ignored)\")\n",
        " elif(a==58):\n",
        "  print(\" -->A number less than a prime.\\n -->when you multiple two digits last is 0\")\n",
        " elif(a==59):\n",
        "  print(\"-->It is a number where the remainder will be zero only with two numbers.\\n -->The average of numbers is 7\")\n",
        " else:\n",
        "  print(\"none\")\n",
        "\n",
        " guess=int(input(\"Enter a number between 50-60: \"))\n",
        " if(guess>=50 and guess<=60):\n",
        "  if(a==guess):\n",
        "\n",
        "   print(\"----YOU WON----\") \n",
        "   print(\"!!!CONGRATS\",name)\n",
        "   \n",
        "  else:\n",
        "   print(\"#######GAME OVER#######\")\n",
        "   print(\"----Try Again------\")\n",
        "   print(\"Answer is: \",a)\n",
        " else:\n",
        "   print(\"Enter valid number\")\n",
        "   break  \n",
        " i=i+1"
      ],
      "execution_count": null,
      "outputs": []
    },
    {
      "cell_type": "code",
      "metadata": {
        "id": "ev6PWMYFpETr"
      },
      "source": [
        ""
      ],
      "execution_count": null,
      "outputs": []
    }
  ]
}